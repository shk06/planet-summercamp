{
 "cells": [
  {
   "cell_type": "markdown",
   "id": "e047b64b",
   "metadata": {},
   "source": [
    "Lytton, BC Heat Wave\n",
    "===\n",
    "Importing Statements for BeuatifulSoup, Urlopen, MatPlotLib, and NumPy"
   ]
  },
  {
   "cell_type": "code",
   "execution_count": 21,
   "id": "043c0476",
   "metadata": {},
   "outputs": [],
   "source": [
    "from bs4 import BeautifulSoup\n",
    "from urllib.request import urlopen\n",
    "import matplotlib.pyplot as plt\n",
    "import numpy as np"
   ]
  },
  {
   "cell_type": "code",
   "execution_count": 22,
   "id": "6adf495a",
   "metadata": {},
   "outputs": [],
   "source": [
    "#Lytton, BC (June 26, 2020) Web Scraping\n",
    "flemingtonnorm1 = \"https://darksky.net/details/50.2312,-121.5813/2020-6-26/us12/en\"\n",
    "html = urlopen(flemingtonnorm1)\n",
    "soup = BeautifulSoup(html, 'html')\n",
    "title = soup.title.text\n",
    "body = soup.body\n",
    "head = soup.head\n",
    "flemnorm1_high = soup.find(attrs={\"class\": \"highLowTemp swip\"}).find(attrs={\"class\":\"lowTemp swap\"}).find(attrs={\"class\":\"temp\"})\n",
    "flemnorm1_hightime = soup.find(attrs={\"class\": \"highLowTemp swip\"}).find(attrs={\"class\":\"lowTemp swap\"}).find(attrs={\"class\": \"time\"})\n",
    "flemnorm1_low = soup.find(attrs={\"class\": \"highLowTemp swip\"}).find(attrs={\"class\":\"highTemp swip\"}).find(attrs={\"class\":\"temp\"})\n",
    "flemnorm1_lowtime = soup.find(attrs={\"class\": \"highLowTemp swip\"}).find(attrs={\"class\":\"highTemp swip\"}).find(attrs={\"class\": \"time\"})"
   ]
  },
  {
   "cell_type": "code",
   "execution_count": 23,
   "id": "75193e41",
   "metadata": {},
   "outputs": [
    {
     "name": "stdout",
     "output_type": "stream",
     "text": [
      "High Temp: It was 84 degrees F at 14:00.\n",
      "Low Temp: It was 67 degrees F at 6:00.\n",
      "Deviation (Between High And Low Temp): 17 degrees F.\n",
      "Time It Took To Go From Low to High Temp: 8 Hours.\n"
     ]
    }
   ],
   "source": [
    "#Printing Temperatures After Formatting the Times and Temperatures into integers for MatPlotLib Compatibility.\n",
    "fflemnorm1_high = flemnorm1_high.text.replace('˚', '')\n",
    "flemnorm1_int_high = (int(fflemnorm1_high))\n",
    "\n",
    "fflemnorm1_low = flemnorm1_low.text.replace('˚', '')\n",
    "flemnorm1_int_low = (int(fflemnorm1_low))\n",
    "\n",
    "deviation_flemnorm1_int = (flemnorm1_int_high - flemnorm1_int_low)\n",
    "\n",
    "#Converting pm / am into 24-hour / military time for MatPlotLib Compatibility\n",
    "if \"pm\" in flemnorm1_hightime.text:\n",
    "    fflemnorm1_hightime = flemnorm1_hightime.text.replace('pm', '')\n",
    "    flemnorm1_int_hightime = (int(fflemnorm1_hightime)) + 12\n",
    "\n",
    "elif \"am\" in flemnorm1_hightime.text:\n",
    "    fflemnorm1_hightime = flemnorm1_hightime.text.replace('am', '')\n",
    "    flemnorm1_int_hightime = (int(fflemnorm1_hightime))\n",
    "    \n",
    "if \"am\" in flemnorm1_lowtime.text:\n",
    "    fflemnorm1_lowtime = flemnorm1_lowtime.text.replace('am', '')\n",
    "    flemnorm1_int_lowtime = (int(fflemnorm1_lowtime))\n",
    "    \n",
    "elif \"pm\" in flemnorm1_lowtime.text:\n",
    "    fflemnorm1_lowtime = flemnorm1_lowtime.text.replace('pm', '')\n",
    "    flemnorm1_int_lowtime = (int(fflemnorm1_lowtime)) + 12\n",
    "\n",
    "deltatime_flemnorm1_int = flemnorm1_int_lowtime - flemnorm1_int_hightime\n",
    "deltatimeabs_flemnorm1_int = abs(deltatime_flemnorm1_int)\n",
    "\n",
    "print('High Temp: It was ' + (str(flemnorm1_int_high)) + ' degrees F at ' + (str(flemnorm1_int_hightime)) + ':00.')\n",
    "print('Low Temp: It was ' + (str(flemnorm1_int_low)) + ' degrees F at ' + (str(flemnorm1_int_lowtime)) + ':00.')\n",
    "print('Deviation (Between High And Low Temp): ' + (str(deviation_flemnorm1_int)) + ' degrees F.')\n",
    "print('Time It Took To Go From Low to High Temp: ' + (str(deltatimeabs_flemnorm1_int)) + ' Hours.')"
   ]
  },
  {
   "cell_type": "code",
   "execution_count": 24,
   "id": "3bb3ccfe",
   "metadata": {},
   "outputs": [],
   "source": [
    "#Lytton, BC (June 27, 2020) Web Scraping\n",
    "flemingtonnorm2 = \"https://darksky.net/details/50.2312,-121.5813/2020-6-27/us12/en\"\n",
    "html2 = urlopen(flemingtonnorm2)\n",
    "soup = BeautifulSoup(html2, 'html')\n",
    "title = soup.title.text\n",
    "body = soup.body\n",
    "head = soup.head\n",
    "flemnorm2_high = soup.find(attrs={\"class\": \"highLowTemp swip\"}).find(attrs={\"class\":\"lowTemp swap\"}).find(attrs={\"class\":\"temp\"})\n",
    "flemnorm2_hightime = soup.find(attrs={\"class\": \"highLowTemp swip\"}).find(attrs={\"class\":\"lowTemp swap\"}).find(attrs={\"class\": \"time\"})\n",
    "flemnorm2_low = soup.find(attrs={\"class\": \"highLowTemp swip\"}).find(attrs={\"class\":\"highTemp swip\"}).find(attrs={\"class\":\"temp\"})\n",
    "flemnorm2_lowtime = soup.find(attrs={\"class\": \"highLowTemp swip\"}).find(attrs={\"class\":\"highTemp swip\"}).find(attrs={\"class\": \"time\"})"
   ]
  },
  {
   "cell_type": "code",
   "execution_count": 25,
   "id": "366c1897",
   "metadata": {},
   "outputs": [
    {
     "name": "stdout",
     "output_type": "stream",
     "text": [
      "High Temp: It was 71 degrees F at 33:00.\n",
      "Low Temp: It was 51 degrees F at 47:00.\n",
      "Deviation (Between High And Low Temp): 20 degrees F.\n",
      "Time It Took To Go From Low to High Temp: 14 Hours.\n"
     ]
    }
   ],
   "source": [
    "#Printing Temperatures After Formatting the Times and Temperatures into integers for MatPlotLib Compatibility.\n",
    "fflemnorm2_high = flemnorm2_high.text.replace('˚', '')\n",
    "flemnorm2_int_high = (int(fflemnorm2_high))\n",
    "\n",
    "fflemnorm2_low = flemnorm2_low.text.replace('˚', '')\n",
    "flemnorm2_int_low = (int(fflemnorm2_low))\n",
    "\n",
    "deviation_flemnorm2_int = (flemnorm2_int_high - flemnorm2_int_low)\n",
    "\n",
    "#Converting pm / am into 24-hour / military time for MatPlotLib Compatibility\n",
    "if \"pm\" in flemnorm2_hightime.text:\n",
    "    fflemnorm2_hightime = flemnorm2_hightime.text.replace('pm', '')\n",
    "    flemnorm2_int_hightime = (int(fflemnorm2_hightime)) + 36\n",
    "\n",
    "elif \"am\" in flemnorm2_hightime.text:\n",
    "    fflemnorm2_hightime = flemnorm2_hightime.text.replace('am', '')\n",
    "    flemnorm2_int_hightime = (int(fflemnorm2_hightime)) + 24\n",
    "    \n",
    "if \"am\" in flemnorm2_lowtime.text:\n",
    "    fflemnorm2_lowtime = flemnorm2_lowtime.text.replace('am', '')\n",
    "    flemnorm2_int_lowtime = (int(fflemnorm2_lowtime)) + 24\n",
    "    \n",
    "elif \"pm\" in flemnorm2_lowtime.text:\n",
    "    fflemnorm2_lowtime = flemnorm2_lowtime.text.replace('pm', '')\n",
    "    flemnorm2_int_lowtime = (int(fflemnorm2_lowtime)) + 36\n",
    "\n",
    "deltatime_flemnorm2_int = flemnorm2_int_lowtime - flemnorm2_int_hightime\n",
    "deltatimeabs_flemnorm2_int = abs(deltatime_flemnorm2_int)\n",
    "\n",
    "print('High Temp: It was ' + (str(flemnorm2_int_high)) + ' degrees F at ' + (str(flemnorm2_int_hightime)) + ':00.')\n",
    "print('Low Temp: It was ' + (str(flemnorm2_int_low)) + ' degrees F at ' + (str(flemnorm2_int_lowtime)) + ':00.')\n",
    "print('Deviation (Between High And Low Temp): ' + (str(deviation_flemnorm2_int)) + ' degrees F.')\n",
    "print('Time It Took To Go From Low to High Temp: ' + (str(deltatimeabs_flemnorm2_int)) + ' Hours.')"
   ]
  },
  {
   "cell_type": "code",
   "execution_count": 26,
   "id": "02337a6b",
   "metadata": {},
   "outputs": [],
   "source": [
    "#Lytton, BC (June 28, 2020) Web Scraping\n",
    "flemingtonnorm3 = \"https://darksky.net/details/50.2312,-121.5813/2020-6-28/us12/en\"\n",
    "html3 = urlopen(flemingtonnorm3)\n",
    "soup = BeautifulSoup(html3, 'html')\n",
    "title = soup.title.text\n",
    "body = soup.body\n",
    "head = soup.head\n",
    "flemnorm3_high = soup.find(attrs={\"class\": \"highLowTemp swip\"}).find(attrs={\"class\":\"lowTemp swap\"}).find(attrs={\"class\":\"temp\"})\n",
    "flemnorm3_hightime = soup.find(attrs={\"class\": \"highLowTemp swip\"}).find(attrs={\"class\":\"lowTemp swap\"}).find(attrs={\"class\": \"time\"})\n",
    "flemnorm3_low = soup.find(attrs={\"class\": \"highLowTemp swip\"}).find(attrs={\"class\":\"highTemp swip\"}).find(attrs={\"class\":\"temp\"})\n",
    "flemnorm3_lowtime = soup.find(attrs={\"class\": \"highLowTemp swip\"}).find(attrs={\"class\":\"highTemp swip\"}).find(attrs={\"class\": \"time\"})"
   ]
  },
  {
   "cell_type": "code",
   "execution_count": 27,
   "id": "817437f9",
   "metadata": {},
   "outputs": [
    {
     "name": "stdout",
     "output_type": "stream",
     "text": [
      "High Temp: It was 76 degrees F at 64:00.\n",
      "Low Temp: It was 51 degrees F at 53:00.\n",
      "Deviation (Between High And Low Temp): 25 degrees F.\n",
      "Time It Took To Go From Low to High Temp: 11 Hours.\n"
     ]
    }
   ],
   "source": [
    "#Printing Temperatures After Formatting the Times and Temperatures into integers for MatPlotLib Compatibility.\n",
    "fflemnorm3_high = flemnorm3_high.text.replace('˚', '')\n",
    "flemnorm3_int_high = (int(fflemnorm3_high))\n",
    "\n",
    "fflemnorm3_low = flemnorm3_low.text.replace('˚', '')\n",
    "flemnorm3_int_low = (int(fflemnorm3_low))\n",
    "\n",
    "deviation_flemnorm3_int = (flemnorm3_int_high - flemnorm3_int_low)\n",
    "\n",
    "#Converting pm / am into 24-hour / military time for MatPlotLib Compatibility\n",
    "if \"pm\" in flemnorm3_hightime.text:\n",
    "    fflemnorm3_hightime = flemnorm3_hightime.text.replace('pm', '')\n",
    "    flemnorm3_int_hightime = (int(fflemnorm3_hightime)) + 60\n",
    "\n",
    "elif \"am\" in flemnorm3_hightime.text:\n",
    "    fflemnorm3_hightime = flemnorm3_hightime.text.replace('am', '')\n",
    "    flemnorm3_int_hightime = (int(fflemnorm3_hightime)) + 48\n",
    "    \n",
    "if \"am\" in flemnorm3_lowtime.text:\n",
    "    fflemnorm3_lowtime = flemnorm3_lowtime.text.replace('am', '')\n",
    "    flemnorm3_int_lowtime = (int(fflemnorm3_lowtime)) + 48\n",
    "    \n",
    "elif \"pm\" in flemnorm3_lowtime.text:\n",
    "    fflemnorm3_lowtime = flemnorm3_lowtime.text.replace('pm', '')\n",
    "    flemnorm3_int_lowtime = (int(fflemnorm3_lowtime)) + 60\n",
    "\n",
    "deltatime_flemnorm3_int = flemnorm3_int_lowtime - flemnorm3_int_hightime\n",
    "deltatimeabs_flemnorm3_int = abs(deltatime_flemnorm3_int)\n",
    "\n",
    "print('High Temp: It was ' + (str(flemnorm3_int_high)) + ' degrees F at ' + (str(flemnorm3_int_hightime)) + ':00.')\n",
    "print('Low Temp: It was ' + (str(flemnorm3_int_low)) + ' degrees F at ' + (str(flemnorm3_int_lowtime)) + ':00.')\n",
    "print('Deviation (Between High And Low Temp): ' + (str(deviation_flemnorm3_int)) + ' degrees F.')\n",
    "print('Time It Took To Go From Low to High Temp: ' + (str(deltatimeabs_flemnorm3_int)) + ' Hours.')"
   ]
  },
  {
   "cell_type": "code",
   "execution_count": 28,
   "id": "55c5bc21",
   "metadata": {},
   "outputs": [],
   "source": [
    "#Lytton, BC (June 29, 2020) Web Scraping\n",
    "flemingtonnorm4 = \"https://darksky.net/details/50.2312,-121.5813/2020-6-29/us12/en\"\n",
    "html4 = urlopen(flemingtonnorm4)\n",
    "soup = BeautifulSoup(html4, 'html')\n",
    "title = soup.title.text\n",
    "body = soup.body\n",
    "head = soup.head\n",
    "flemnorm4_high = soup.find(attrs={\"class\": \"highLowTemp swip\"}).find(attrs={\"class\":\"lowTemp swap\"}).find(attrs={\"class\":\"temp\"})\n",
    "flemnorm4_hightime = soup.find(attrs={\"class\": \"highLowTemp swip\"}).find(attrs={\"class\":\"lowTemp swap\"}).find(attrs={\"class\": \"time\"})\n",
    "flemnorm4_low = soup.find(attrs={\"class\": \"highLowTemp swip\"}).find(attrs={\"class\":\"highTemp swip\"}).find(attrs={\"class\":\"temp\"})\n",
    "flemnorm4_lowtime = soup.find(attrs={\"class\": \"highLowTemp swip\"}).find(attrs={\"class\":\"highTemp swip\"}).find(attrs={\"class\": \"time\"})"
   ]
  },
  {
   "cell_type": "code",
   "execution_count": 29,
   "id": "79a8816e",
   "metadata": {},
   "outputs": [
    {
     "name": "stdout",
     "output_type": "stream",
     "text": [
      "High Temp: It was 84 degrees F at 90:00.\n",
      "Low Temp: It was 53 degrees F at 78:00.\n",
      "Deviation (Between High And Low Temp): 31 degrees F.\n",
      "Time It Took To Go From Low to High Temp: 12 Hours.\n"
     ]
    }
   ],
   "source": [
    "#Printing Temperatures After Formatting the Times and Temperatures into integers for MatPlotLib Compatibility.\n",
    "fflemnorm4_high = flemnorm4_high.text.replace('˚', '')\n",
    "flemnorm4_int_high = (int(fflemnorm4_high))\n",
    "\n",
    "fflemnorm4_low = flemnorm4_low.text.replace('˚', '')\n",
    "flemnorm4_int_low = (int(fflemnorm4_low))\n",
    "\n",
    "deviation_flemnorm4_int = (flemnorm4_int_high - flemnorm4_int_low)\n",
    "\n",
    "#Converting pm / am into 24-hour / military time for MatPlotLib Compatibility\n",
    "if \"pm\" in flemnorm4_hightime.text:\n",
    "    fflemnorm4_hightime = flemnorm4_hightime.text.replace('pm', '')\n",
    "    flemnorm4_int_hightime = (int(fflemnorm4_hightime)) + 84\n",
    "\n",
    "elif \"am\" in flemnorm4_hightime.text:\n",
    "    fflemnorm4_hightime = flemnorm4_hightime.text.replace('am', '')\n",
    "    flemnorm4_int_hightime = (int(fflemnorm4_hightime)) + 72\n",
    "    \n",
    "if \"am\" in flemnorm4_lowtime.text:\n",
    "    fflemnorm4_lowtime = flemnorm4_lowtime.text.replace('am', '')\n",
    "    flemnorm4_int_lowtime = (int(fflemnorm4_lowtime)) + 72\n",
    "    \n",
    "elif \"pm\" in flemnorm4_lowtime.text:\n",
    "    fflemnorm4_lowtime = flemnorm4_lowtime.text.replace('pm', '')\n",
    "    flemnorm4_int_lowtime = (int(fflemnorm4_lowtime)) + 84\n",
    "\n",
    "deltatime_flemnorm4_int = flemnorm4_int_lowtime - flemnorm4_int_hightime\n",
    "deltatimeabs_flemnorm4_int = abs(deltatime_flemnorm4_int)\n",
    "\n",
    "print('High Temp: It was ' + (str(flemnorm4_int_high)) + ' degrees F at ' + (str(flemnorm4_int_hightime)) + ':00.')\n",
    "print('Low Temp: It was ' + (str(flemnorm4_int_low)) + ' degrees F at ' + (str(flemnorm4_int_lowtime)) + ':00.')\n",
    "print('Deviation (Between High And Low Temp): ' + (str(deviation_flemnorm4_int)) + ' degrees F.')\n",
    "print('Time It Took To Go From Low to High Temp: ' + (str(deltatimeabs_flemnorm4_int)) + ' Hours.')"
   ]
  },
  {
   "cell_type": "code",
   "execution_count": 30,
   "id": "23d66efb",
   "metadata": {},
   "outputs": [],
   "source": [
    "#Lytton, BC (June 26, 2021) Web Scraping\n",
    "flemingtonab1 = \"https://darksky.net/details/50.2312,-121.5813/2021-6-26/us12/en\"\n",
    "html5 = urlopen(flemingtonab1)\n",
    "soup = BeautifulSoup(html5, 'html')\n",
    "title = soup.title.text\n",
    "body = soup.body\n",
    "head = soup.head\n",
    "flemab1_high = soup.find(attrs={\"class\": \"highLowTemp swip\"}).find(attrs={\"class\":\"lowTemp swap\"}).find(attrs={\"class\":\"temp\"})\n",
    "flemab1_hightime = soup.find(attrs={\"class\": \"highLowTemp swip\"}).find(attrs={\"class\":\"lowTemp swap\"}).find(attrs={\"class\": \"time\"})\n",
    "flemab1_low = soup.find(attrs={\"class\": \"highLowTemp swip\"}).find(attrs={\"class\":\"highTemp swip\"}).find(attrs={\"class\":\"temp\"})\n",
    "flemab1_lowtime = soup.find(attrs={\"class\": \"highLowTemp swip\"}).find(attrs={\"class\":\"highTemp swip\"}).find(attrs={\"class\": \"time\"})"
   ]
  },
  {
   "cell_type": "code",
   "execution_count": 31,
   "id": "bc7b8910",
   "metadata": {},
   "outputs": [
    {
     "name": "stdout",
     "output_type": "stream",
     "text": [
      "High Temp: It was 110 degrees F at 17:00.\n",
      "Low Temp: It was 69 degrees F at 6:00.\n",
      "Deviation (Between High And Low Temp): 41 degrees F.\n",
      "Time It Took To Go From Low to High Temp: 11 Hours.\n"
     ]
    }
   ],
   "source": [
    "#Printing Temperatures After Formatting the Times and Temperatures into integers for MatPlotLib Compatibility.\n",
    "fflemab1_high = flemab1_high.text.replace('˚', '')\n",
    "flemab1_int_high = (int(fflemab1_high))\n",
    "\n",
    "fflemab1_low = flemab1_low.text.replace('˚', '')\n",
    "flemab1_int_low = (int(fflemab1_low))\n",
    "\n",
    "deviation_flemab1_int = (flemab1_int_high - flemab1_int_low)\n",
    "\n",
    "#Converting pm / am into 24-hour / military time for MatPlotLib Compatibility\n",
    "if \"pm\" in flemab1_hightime.text:\n",
    "    fflemab1_hightime = flemab1_hightime.text.replace('pm', '')\n",
    "    flemab1_int_hightime = (int(fflemab1_hightime)) + 12\n",
    "\n",
    "elif \"am\" in flemab1_hightime.text:\n",
    "    fflemab1_hightime = flemab1_hightime.text.replace('am', '')\n",
    "    flemab1_int_hightime = (int(fflemab1_hightime))\n",
    "    \n",
    "if \"am\" in flemab1_lowtime.text:\n",
    "    fflemab1_lowtime = flemab1_lowtime.text.replace('am', '')\n",
    "    flemab1_int_lowtime = (int(fflemab1_lowtime))\n",
    "    \n",
    "elif \"pm\" in flemab1_lowtime.text:\n",
    "    fflemab1_lowtime = flemab1_lowtime.text.replace('pm', '')\n",
    "    flemab1_int_lowtime = (int(fflemab1_lowtime)) + 12\n",
    "\n",
    "deltatime_flemab1_int = flemab1_int_lowtime - flemab1_int_hightime\n",
    "deltatimeabs_flemab1_int = abs(deltatime_flemab1_int)\n",
    "\n",
    "print('High Temp: It was ' + (str(flemab1_int_high)) + ' degrees F at ' + (str(flemab1_int_hightime)) + ':00.')\n",
    "print('Low Temp: It was ' + (str(flemab1_int_low)) + ' degrees F at ' + (str(flemab1_int_lowtime)) + ':00.')\n",
    "print('Deviation (Between High And Low Temp): ' + (str(deviation_flemab1_int)) + ' degrees F.')\n",
    "print('Time It Took To Go From Low to High Temp: ' + (str(deltatimeabs_flemab1_int)) + ' Hours.')"
   ]
  },
  {
   "cell_type": "code",
   "execution_count": 32,
   "id": "1b65e68a",
   "metadata": {},
   "outputs": [],
   "source": [
    "#Lytton, BC (June 27, 2021) Web Scraping\n",
    "flemingtonab2 = \"https://darksky.net/details/50.2312,-121.5813/2021-6-27/us12/en\"\n",
    "html6 = urlopen(flemingtonab2)\n",
    "soup = BeautifulSoup(html6, 'html')\n",
    "title = soup.title.text\n",
    "body = soup.body\n",
    "head = soup.head\n",
    "flemab2_high = soup.find(attrs={\"class\": \"highLowTemp swip\"}).find(attrs={\"class\":\"lowTemp swap\"}).find(attrs={\"class\":\"temp\"})\n",
    "flemab2_hightime = soup.find(attrs={\"class\": \"highLowTemp swip\"}).find(attrs={\"class\":\"lowTemp swap\"}).find(attrs={\"class\": \"time\"})\n",
    "flemab2_low = soup.find(attrs={\"class\": \"highLowTemp swip\"}).find(attrs={\"class\":\"highTemp swip\"}).find(attrs={\"class\":\"temp\"})\n",
    "flemab2_lowtime = soup.find(attrs={\"class\": \"highLowTemp swip\"}).find(attrs={\"class\":\"highTemp swip\"}).find(attrs={\"class\": \"time\"})"
   ]
  },
  {
   "cell_type": "code",
   "execution_count": 33,
   "id": "5fdab903",
   "metadata": {},
   "outputs": [
    {
     "name": "stdout",
     "output_type": "stream",
     "text": [
      "High Temp: It was 115 degrees F at 41:00.\n",
      "Low Temp: It was 69 degrees F at 30:00.\n",
      "Deviation (Between High And Low Temp): 46 degrees F.\n",
      "Time It Took To Go From Low to High Temp: 11 Hours.\n"
     ]
    }
   ],
   "source": [
    "#Printing Temperatures After Formatting the Times and Temperatures into integers for MatPlotLib Compatibility.\n",
    "fflemab2_high = flemab2_high.text.replace('˚', '')\n",
    "flemab2_int_high = (int(fflemab2_high))\n",
    "\n",
    "fflemab2_low = flemab2_low.text.replace('˚', '')\n",
    "flemab2_int_low = (int(fflemab2_low))\n",
    "\n",
    "deviation_flemab2_int = (flemab2_int_high - flemab2_int_low)\n",
    "\n",
    "#Converting pm / am into amount of hours since 12 AM PDT on June 26th for MatPlotLib Compatibility\n",
    "if \"pm\" in flemab2_hightime.text:\n",
    "    fflemab2_hightime = flemab2_hightime.text.replace('pm', '')\n",
    "    flemab2_int_hightime = (int(fflemab2_hightime)) + 36\n",
    "\n",
    "elif \"am\" in flemab2_hightime.text:\n",
    "    fflemab2_hightime = flemab2_hightime.text.replace('am', '')\n",
    "    flemab2_int_hightime = (int(fflemab2_hightime)) + 24\n",
    "    \n",
    "if \"am\" in flemab2_lowtime.text:\n",
    "    fflemab2_lowtime = flemab2_lowtime.text.replace('am', '')\n",
    "    flemab2_int_lowtime = (int(fflemab2_lowtime)) + 24\n",
    "    \n",
    "elif \"pm\" in flemab2_lowtime.text:\n",
    "    fflemab2_lowtime = flemab2_lowtime.text.replace('pm', '')\n",
    "    flemab2_int_lowtime = (int(fflemab2_lowtime)) + 36\n",
    "\n",
    "deltatime_flemab2_int = flemab2_int_lowtime - flemab2_int_hightime\n",
    "deltatimeabs_flemab2_int = abs(deltatime_flemab2_int)\n",
    "\n",
    "print('High Temp: It was ' + (str(flemab2_int_high)) + ' degrees F at ' + (str(flemab2_int_hightime)) + ':00.')\n",
    "print('Low Temp: It was ' + (str(flemab2_int_low)) + ' degrees F at ' + (str(flemab2_int_lowtime)) + ':00.')\n",
    "print('Deviation (Between High And Low Temp): ' + (str(deviation_flemab2_int)) + ' degrees F.')\n",
    "print('Time It Took To Go From Low to High Temp: ' + (str(deltatimeabs_flemab2_int)) + ' Hours.')"
   ]
  },
  {
   "cell_type": "code",
   "execution_count": 34,
   "id": "77fc199f",
   "metadata": {},
   "outputs": [],
   "source": [
    "#lytton, BC (June 28, 2021) Web Scraping\n",
    "flemingtonab3 = \"https://darksky.net/details/50.2312,-121.5813/2021-6-28/us12/en\"\n",
    "html7 = urlopen(flemingtonab3)\n",
    "soup = BeautifulSoup(html7, 'html')\n",
    "title = soup.title.text\n",
    "body = soup.body\n",
    "head = soup.head\n",
    "flemab3_high = soup.find(attrs={\"class\": \"highLowTemp swip\"}).find(attrs={\"class\":\"lowTemp swap\"}).find(attrs={\"class\":\"temp\"})\n",
    "flemab3_hightime = soup.find(attrs={\"class\": \"highLowTemp swip\"}).find(attrs={\"class\":\"lowTemp swap\"}).find(attrs={\"class\": \"time\"})\n",
    "flemab3_low = soup.find(attrs={\"class\": \"highLowTemp swip\"}).find(attrs={\"class\":\"highTemp swip\"}).find(attrs={\"class\":\"temp\"})\n",
    "flemab3_lowtime = soup.find(attrs={\"class\": \"highLowTemp swip\"}).find(attrs={\"class\":\"highTemp swip\"}).find(attrs={\"class\": \"time\"})"
   ]
  },
  {
   "cell_type": "code",
   "execution_count": 35,
   "id": "aa34eccd",
   "metadata": {},
   "outputs": [
    {
     "name": "stdout",
     "output_type": "stream",
     "text": [
      "High Temp: It was 117 degrees F at 63:00.\n",
      "Low Temp: It was 69 degrees F at 54:00.\n",
      "Deviation (Between High And Low Temp): 48 degrees F.\n",
      "Time It Took To Go From Low to High Temp: 9 Hours.\n"
     ]
    }
   ],
   "source": [
    "#Printing Temperatures After Formatting the Times and Temperatures into integers for MatPlotLib Compatibility.\n",
    "fflemab3_high = flemab3_high.text.replace('˚', '')\n",
    "flemab3_int_high = (int(fflemab3_high))\n",
    "\n",
    "fflemab3_low = flemab3_low.text.replace('˚', '')\n",
    "flemab3_int_low = (int(fflemab3_low))\n",
    "\n",
    "deviation_flemab3_int = (flemab3_int_high - flemab3_int_low)\n",
    "\n",
    "#Converting pm / am into 24-hour / military time for MatPlotLib Compatibility\n",
    "if \"pm\" in flemab3_hightime.text:\n",
    "    fflemab3_hightime = flemab3_hightime.text.replace('pm', '')\n",
    "    flemab3_int_hightime = (int(fflemab3_hightime)) + 60\n",
    "\n",
    "elif \"am\" in flemab3_hightime.text:\n",
    "    fflemab3_hightime = flemab3_hightime.text.replace('am', '')\n",
    "    flemab3_int_hightime = (int(fflemab3_hightime)) + 48\n",
    "    \n",
    "if \"am\" in flemab3_lowtime.text:\n",
    "    fflemab3_lowtime = flemab3_lowtime.text.replace('am', '')\n",
    "    flemab3_int_lowtime = (int(fflemab3_lowtime)) + 48\n",
    "    \n",
    "elif \"pm\" in flemab3_lowtime.text:\n",
    "    fflemab3_lowtime = flemab3_lowtime.text.replace('pm', '')\n",
    "    flemab3_int_lowtime = (int(fflemab3_lowtime)) + 60\n",
    "\n",
    "deltatime_flemab3_int = flemab3_int_lowtime - flemab3_int_hightime\n",
    "deltatimeabs_flemab3_int = abs(deltatime_flemab3_int)\n",
    "\n",
    "print('High Temp: It was ' + (str(flemab3_int_high)) + ' degrees F at ' + (str(flemab3_int_hightime)) + ':00.')\n",
    "print('Low Temp: It was ' + (str(flemab3_int_low)) + ' degrees F at ' + (str(flemab3_int_lowtime)) + ':00.')\n",
    "print('Deviation (Between High And Low Temp): ' + (str(deviation_flemab3_int)) + ' degrees F.')\n",
    "print('Time It Took To Go From Low to High Temp: ' + (str(deltatimeabs_flemab3_int)) + ' Hours.')"
   ]
  },
  {
   "cell_type": "code",
   "execution_count": 36,
   "id": "56fb6343",
   "metadata": {},
   "outputs": [],
   "source": [
    "#lytton, BC (June 29, 2021) Web Scraping\n",
    "flemingtonab4 = \"https://darksky.net/details/50.2312,-121.5813/2021-6-29/us12/en\"\n",
    "html8 = urlopen(flemingtonab4)\n",
    "soup = BeautifulSoup(html8, 'html')\n",
    "title = soup.title.text\n",
    "body = soup.body\n",
    "head = soup.head\n",
    "flemab4_high = soup.find(attrs={\"class\": \"highLowTemp swip\"}).find(attrs={\"class\":\"lowTemp swap\"}).find(attrs={\"class\":\"temp\"})\n",
    "flemab4_hightime = soup.find(attrs={\"class\": \"highLowTemp swip\"}).find(attrs={\"class\":\"lowTemp swap\"}).find(attrs={\"class\": \"time\"})\n",
    "flemab4_low = soup.find(attrs={\"class\": \"highLowTemp swip\"}).find(attrs={\"class\":\"highTemp swip\"}).find(attrs={\"class\":\"temp\"})\n",
    "flemab4_lowtime = soup.find(attrs={\"class\": \"highLowTemp swip\"}).find(attrs={\"class\":\"highTemp swip\"}).find(attrs={\"class\": \"time\"})"
   ]
  },
  {
   "cell_type": "code",
   "execution_count": 37,
   "id": "7c7f4db8",
   "metadata": {},
   "outputs": [
    {
     "name": "stdout",
     "output_type": "stream",
     "text": [
      "High Temp: It was 121 degrees F at 88:00.\n",
      "Low Temp: It was 69 degrees F at 78:00.\n",
      "Deviation (Between High And Low Temp): 52 degrees F.\n",
      "Time It Took To Go From Low to High Temp: 10 Hours.\n"
     ]
    }
   ],
   "source": [
    "#Printing Temperatures After Formatting the Times and Temperatures into integers for MatPlotLib Compatibility.\n",
    "fflemab4_high = flemab4_high.text.replace('˚', '')\n",
    "flemab4_int_high = (int(fflemab4_high))\n",
    "\n",
    "fflemab4_low = flemab4_low.text.replace('˚', '')\n",
    "flemab4_int_low = (int(fflemab4_low))\n",
    "\n",
    "deviation_flemab4_int = (flemab4_int_high - flemab4_int_low)\n",
    "\n",
    "#Converting pm / am into 24-hour / military time for MatPlotLib Compatibility\n",
    "if \"pm\" in flemab4_hightime.text:\n",
    "    fflemab4_hightime = flemab4_hightime.text.replace('pm', '')\n",
    "    flemab4_int_hightime = (int(fflemab4_hightime)) + 84\n",
    "\n",
    "elif \"am\" in flemab4_hightime.text:\n",
    "    fflemab4_hightime = flemab4_hightime.text.replace('am', '')\n",
    "    flemab4_int_hightime = (int(fflemab4_hightime)) + 72\n",
    "    \n",
    "if \"am\" in flemab4_lowtime.text:\n",
    "    fflemab4_lowtime = flemab4_lowtime.text.replace('am', '')\n",
    "    flemab4_int_lowtime = (int(fflemab4_lowtime)) + 72\n",
    "    \n",
    "elif \"pm\" in flemab4_lowtime.text:\n",
    "    fflemab4_lowtime = flemab4_lowtime.text.replace('pm', '')\n",
    "    flemab4_int_lowtime = (int(fflemab4_lowtime)) + 84\n",
    "    \n",
    "deltatime_flemab4_int = flemab4_int_lowtime - flemab4_int_hightime\n",
    "deltatimeabs_flemab4_int = abs(deltatime_flemab4_int)\n",
    "\n",
    "print('High Temp: It was ' + (str(flemab4_int_high)) + ' degrees F at ' + (str(flemab4_int_hightime)) + ':00.')\n",
    "print('Low Temp: It was ' + (str(flemab4_int_low)) + ' degrees F at ' + (str(flemab4_int_lowtime)) + ':00.')\n",
    "print('Deviation (Between High And Low Temp): ' + (str(deviation_flemab4_int)) + ' degrees F.')\n",
    "print('Time It Took To Go From Low to High Temp: ' + (str(deltatimeabs_flemab4_int)) + ' Hours.')"
   ]
  },
  {
   "cell_type": "code",
   "execution_count": 38,
   "id": "5ad993f2",
   "metadata": {},
   "outputs": [
    {
     "data": {
      "image/png": "[encoded data removed]",
      "text/plain": [
       "<Figure size 432x288 with 1 Axes>"
      ]
     },
     "metadata": {
      "needs_background": "light"
     },
     "output_type": "display_data"
    }
   ],
   "source": [
    "#MatPlotlib Graphing w/ Unsmoothened Data: only highs and lows (actualis et normalis cum mediocris)\n",
    "xactual = np.array([flemnorm1_int_lowtime, flemnorm1_int_hightime, 28, flemnorm2_int_hightime, flemnorm2_int_lowtime, flemnorm3_int_lowtime, flemnorm3_int_hightime, flemnorm4_int_lowtime, flemnorm4_int_hightime])\n",
    "yactual = np.array([flemnorm1_int_low, flemnorm1_int_high, 63, flemnorm2_int_high, flemnorm2_int_low, flemnorm3_int_low, flemnorm3_int_high, flemnorm4_int_low, flemnorm4_int_high])\n",
    "plt.plot(xactual, yactual, label = \"Actual Temperatures\")\n",
    "\n",
    "xavg = np.array([6, 15, 30, 39, 54, 63, 78, 87])\n",
    "yavg = np.array([61, 77, 61, 77, 62, 77, 62, 77])\n",
    "plt.plot(xavg, yavg, label = \"Average Temperatures\")\n",
    "\n",
    "plt.xlabel(\"Number of Hours after 12 AM PDT, June 26th, 2020\")\n",
    "plt.ylabel(\"Temperature (Degrees Fahrenheit)\")\n",
    "plt.title('Actual vs. Average Temperatures from June 26th, 2020 - June 29th, 2020 in Lytton, BC')\n",
    "plt.legend()\n",
    "plt.ylim((50,130))\n",
    "plt.show()"
   ]
  },
  {
   "cell_type": "code",
   "execution_count": 39,
   "id": "efeaab63",
   "metadata": {},
   "outputs": [
    {
     "data": {
      "image/png": "[encoded data removed]",
      "text/plain": [
       "<Figure size 432x288 with 1 Axes>"
      ]
     },
     "metadata": {
      "needs_background": "light"
     },
     "output_type": "display_data"
    }
   ],
   "source": [
    "#Matplotlib Graphing w/ Unsmoothened Data: only highs and lows (actualis sed abnormis cum mediocris)\n",
    "xabnormal = np.array([flemab1_int_lowtime, flemab1_int_hightime, flemab2_int_lowtime, flemab2_int_hightime, flemab3_int_lowtime, flemab3_int_hightime, flemab4_int_lowtime, flemab4_int_hightime])\n",
    "yabnormal = np.array([flemab1_int_low, flemab1_int_high, flemab2_int_low, flemab2_int_high, flemab3_int_low, flemab3_int_high, flemab4_int_low, flemab4_int_high])\n",
    "plt.plot(xabnormal, yabnormal, label = \"Abnormal Temperatures\")\n",
    "\n",
    "xavg = np.array([6, 15, 30, 39, 54, 63, 78, 87])\n",
    "yavg = np.array([61, 77, 61, 77, 62, 77, 62, 77])\n",
    "plt.plot(xavg, yavg, label = \"Average Temperatures\")\n",
    "\n",
    "xrecord = [88]\n",
    "yrecord = [121]\n",
    "plt.plot(xrecord, yrecord, marker=\"o\", markersize=10, markeredgecolor=\"orange\", markerfacecolor=\"red\")\n",
    "\n",
    "plt.xlabel(\"Number of Hours after 12 AM PDT, June 26th, 2021\")\n",
    "plt.ylabel(\"Temperature (Degrees Fahrenheit)\")\n",
    "plt.title('Abnormal vs. Average Temperatures from June 26th, 2021 - June 29th, 2021 in Lytton, BC')\n",
    "plt.legend()\n",
    "plt.ylim((50,130))\n",
    "plt.show()"
   ]
  },
  {
   "cell_type": "code",
   "execution_count": 40,
   "id": "693abcbd",
   "metadata": {},
   "outputs": [
    {
     "data": {
      "image/png": "[encoded data removed]",
      "text/plain": [
       "<Figure size 432x288 with 1 Axes>"
      ]
     },
     "metadata": {
      "needs_background": "light"
     },
     "output_type": "display_data"
    }
   ],
   "source": [
    "#MatPlotLib Deviation Graph (actualis et normalis cum abnormalis cum mediocris)\n",
    "xnormal = np.array([0, 1, 2, 3])\n",
    "ynormal = np.array([deviation_flemnorm1_int, deviation_flemnorm2_int, deviation_flemnorm3_int, deviation_flemnorm4_int])\n",
    "plt.plot(xnormal, ynormal, label = \"Actual / Normal Deviations (2020)\")\n",
    "\n",
    "xabn = np.array([0, 1, 2, 3])\n",
    "yabn = np.array([deviation_flemab1_int, deviation_flemab2_int, deviation_flemab3_int, deviation_flemab4_int])\n",
    "plt.plot(xabn, yabn, label = \"Abnormal Deviations in Heat Wave (2021)\")\n",
    "\n",
    "xaverage = np.array([0, 1, 2, 3])\n",
    "yaverage = np.array([16, 16, 15, 15])\n",
    "plt.plot(xaverage, yaverage, label = \"Average Deviations\")\n",
    "\n",
    "plt.xlabel(\"Number of Days after 12 AM PDT, June 26th\")\n",
    "plt.ylabel(\"Temperature (Degrees Fahrenheit)\")\n",
    "plt.title('Normal vs. Average Deviation (Degrees F) Between High and Low Temperatures from June 26th - June 29th in Lytton, BC')\n",
    "plt.legend()\n",
    "plt.show()"
   ]
  }
 ],
 "metadata": {
  "kernelspec": {
   "display_name": "Python 3",
   "language": "python",
   "name": "python3"
  },
  "language_info": {
   "codemirror_mode": {
    "name": "ipython",
    "version": 3
   },
   "file_extension": ".py",
   "mimetype": "text/x-python",
   "name": "python",
   "nbconvert_exporter": "python",
   "pygments_lexer": "ipython3",
   "version": "3.8.8"
  }
 },
 "nbformat": 4,
 "nbformat_minor": 5
}
